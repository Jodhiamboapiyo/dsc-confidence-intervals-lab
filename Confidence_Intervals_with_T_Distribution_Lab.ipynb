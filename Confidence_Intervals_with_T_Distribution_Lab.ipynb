{
  "cells": [
    {
      "cell_type": "markdown",
      "metadata": {
        "id": "e8z0gNsrdAYf"
      },
      "source": [
        "# Confidence Intervals with T Distribution - Lab"
      ]
    },
    {
      "cell_type": "markdown",
      "metadata": {
        "id": "sesGPKdldAYj"
      },
      "source": [
        "## Introduction\n",
        "\n",
        "In the previous lab, we saw that if we have the standard deviation for the population, we can use use $z$-score to calculate our confidence interval using the mean of sample means.\n",
        "\n",
        "If, on the other hand, the standard deviation of the population is not known (which is usually the case), you have to use the standard deviation of your sample as a stand-in when creating confidence intervals. Since the sample standard deviation is often different than that of the population, further potential errors are introduced to our confidence intervals. To account for this error, we use what's known as a t-critical value instead of the $z$-critical value.\n",
        "\n",
        "The t-critical value is drawn from what's known as a t-distribution.\n",
        "> A t-distribution  closely resembles the normal distribution but gets wider and wider as the sample size falls.\n",
        "\n",
        "<img src=\"https://raw.githubusercontent.com/learn-co-curriculum/dsc-intervals-with-t-distribution-lab/master/images/new_t-distr-img.png\" alt=\"comparison of t and z distributions\" width=\"500\">\n",
        "\n",
        "The t-distribution is available in `scipy.stats` with the nickname \"t\" so we can get t-critical values with `stats.t.ppf()`."
      ]
    },
    {
      "cell_type": "markdown",
      "metadata": {
        "id": "pm-K0y-AdAYl"
      },
      "source": [
        "## Objectives\n",
        "\n",
        "You will be able to:\n",
        "\n",
        "* Calculate confidence intervals using the t-distribution\n",
        "* Interpret confidence intervals in relation to true population parameters"
      ]
    },
    {
      "cell_type": "markdown",
      "metadata": {
        "id": "BUFaFqM3dAYl"
      },
      "source": [
        "## Let's Get Started!"
      ]
    },
    {
      "cell_type": "code",
      "execution_count": 11,
      "metadata": {
        "id": "fJlIaz93dAYm"
      },
      "outputs": [],
      "source": [
        "# Run this cell without changes\n",
        "# Import the necessary libraries\n",
        "import numpy as np\n",
        "import pandas as pd\n",
        "import scipy.stats as stats\n",
        "import matplotlib.pyplot as plt\n",
        "from matplotlib.lines import Line2D\n",
        "import random\n",
        "import math"
      ]
    },
    {
      "cell_type": "markdown",
      "metadata": {
        "id": "pLRrZZCQdAYn"
      },
      "source": [
        "Let's investigate point estimates by generating a population of random age data collected at two different locations and then drawing a sample from it to estimate the mean:"
      ]
    },
    {
      "cell_type": "code",
      "execution_count": 12,
      "metadata": {
        "colab": {
          "base_uri": "https://localhost:8080/",
          "height": 1000
        },
        "id": "ylXRxHVVdAYn",
        "outputId": "47be0694-f552-4f52-9e39-c9dc9a298f4f"
      },
      "outputs": [
        {
          "output_type": "execute_result",
          "data": {
            "text/plain": [
              "                Age\n",
              "count  20000.000000\n",
              "mean      21.008578\n",
              "std        3.671277\n",
              "min        4.784588\n",
              "25%       18.662256\n",
              "50%       21.163276\n",
              "75%       23.489438\n",
              "max       36.140116"
            ],
            "text/html": [
              "\n",
              "  <div id=\"df-2845d4f4-00f3-44c5-bca6-b2cfd6b0fcf1\" class=\"colab-df-container\">\n",
              "    <div>\n",
              "<style scoped>\n",
              "    .dataframe tbody tr th:only-of-type {\n",
              "        vertical-align: middle;\n",
              "    }\n",
              "\n",
              "    .dataframe tbody tr th {\n",
              "        vertical-align: top;\n",
              "    }\n",
              "\n",
              "    .dataframe thead th {\n",
              "        text-align: right;\n",
              "    }\n",
              "</style>\n",
              "<table border=\"1\" class=\"dataframe\">\n",
              "  <thead>\n",
              "    <tr style=\"text-align: right;\">\n",
              "      <th></th>\n",
              "      <th>Age</th>\n",
              "    </tr>\n",
              "  </thead>\n",
              "  <tbody>\n",
              "    <tr>\n",
              "      <th>count</th>\n",
              "      <td>20000.000000</td>\n",
              "    </tr>\n",
              "    <tr>\n",
              "      <th>mean</th>\n",
              "      <td>21.008578</td>\n",
              "    </tr>\n",
              "    <tr>\n",
              "      <th>std</th>\n",
              "      <td>3.671277</td>\n",
              "    </tr>\n",
              "    <tr>\n",
              "      <th>min</th>\n",
              "      <td>4.784588</td>\n",
              "    </tr>\n",
              "    <tr>\n",
              "      <th>25%</th>\n",
              "      <td>18.662256</td>\n",
              "    </tr>\n",
              "    <tr>\n",
              "      <th>50%</th>\n",
              "      <td>21.163276</td>\n",
              "    </tr>\n",
              "    <tr>\n",
              "      <th>75%</th>\n",
              "      <td>23.489438</td>\n",
              "    </tr>\n",
              "    <tr>\n",
              "      <th>max</th>\n",
              "      <td>36.140116</td>\n",
              "    </tr>\n",
              "  </tbody>\n",
              "</table>\n",
              "</div>\n",
              "    <div class=\"colab-df-buttons\">\n",
              "\n",
              "  <div class=\"colab-df-container\">\n",
              "    <button class=\"colab-df-convert\" onclick=\"convertToInteractive('df-2845d4f4-00f3-44c5-bca6-b2cfd6b0fcf1')\"\n",
              "            title=\"Convert this dataframe to an interactive table.\"\n",
              "            style=\"display:none;\">\n",
              "\n",
              "  <svg xmlns=\"http://www.w3.org/2000/svg\" height=\"24px\" viewBox=\"0 -960 960 960\">\n",
              "    <path d=\"M120-120v-720h720v720H120Zm60-500h600v-160H180v160Zm220 220h160v-160H400v160Zm0 220h160v-160H400v160ZM180-400h160v-160H180v160Zm440 0h160v-160H620v160ZM180-180h160v-160H180v160Zm440 0h160v-160H620v160Z\"/>\n",
              "  </svg>\n",
              "    </button>\n",
              "\n",
              "  <style>\n",
              "    .colab-df-container {\n",
              "      display:flex;\n",
              "      gap: 12px;\n",
              "    }\n",
              "\n",
              "    .colab-df-convert {\n",
              "      background-color: #E8F0FE;\n",
              "      border: none;\n",
              "      border-radius: 50%;\n",
              "      cursor: pointer;\n",
              "      display: none;\n",
              "      fill: #1967D2;\n",
              "      height: 32px;\n",
              "      padding: 0 0 0 0;\n",
              "      width: 32px;\n",
              "    }\n",
              "\n",
              "    .colab-df-convert:hover {\n",
              "      background-color: #E2EBFA;\n",
              "      box-shadow: 0px 1px 2px rgba(60, 64, 67, 0.3), 0px 1px 3px 1px rgba(60, 64, 67, 0.15);\n",
              "      fill: #174EA6;\n",
              "    }\n",
              "\n",
              "    .colab-df-buttons div {\n",
              "      margin-bottom: 4px;\n",
              "    }\n",
              "\n",
              "    [theme=dark] .colab-df-convert {\n",
              "      background-color: #3B4455;\n",
              "      fill: #D2E3FC;\n",
              "    }\n",
              "\n",
              "    [theme=dark] .colab-df-convert:hover {\n",
              "      background-color: #434B5C;\n",
              "      box-shadow: 0px 1px 3px 1px rgba(0, 0, 0, 0.15);\n",
              "      filter: drop-shadow(0px 1px 2px rgba(0, 0, 0, 0.3));\n",
              "      fill: #FFFFFF;\n",
              "    }\n",
              "  </style>\n",
              "\n",
              "    <script>\n",
              "      const buttonEl =\n",
              "        document.querySelector('#df-2845d4f4-00f3-44c5-bca6-b2cfd6b0fcf1 button.colab-df-convert');\n",
              "      buttonEl.style.display =\n",
              "        google.colab.kernel.accessAllowed ? 'block' : 'none';\n",
              "\n",
              "      async function convertToInteractive(key) {\n",
              "        const element = document.querySelector('#df-2845d4f4-00f3-44c5-bca6-b2cfd6b0fcf1');\n",
              "        const dataTable =\n",
              "          await google.colab.kernel.invokeFunction('convertToInteractive',\n",
              "                                                    [key], {});\n",
              "        if (!dataTable) return;\n",
              "\n",
              "        const docLinkHtml = 'Like what you see? Visit the ' +\n",
              "          '<a target=\"_blank\" href=https://colab.research.google.com/notebooks/data_table.ipynb>data table notebook</a>'\n",
              "          + ' to learn more about interactive tables.';\n",
              "        element.innerHTML = '';\n",
              "        dataTable['output_type'] = 'display_data';\n",
              "        await google.colab.output.renderOutput(dataTable, element);\n",
              "        const docLink = document.createElement('div');\n",
              "        docLink.innerHTML = docLinkHtml;\n",
              "        element.appendChild(docLink);\n",
              "      }\n",
              "    </script>\n",
              "  </div>\n",
              "\n",
              "\n",
              "<div id=\"df-6a2de935-0c04-4c22-bbc2-f95910cfe168\">\n",
              "  <button class=\"colab-df-quickchart\" onclick=\"quickchart('df-6a2de935-0c04-4c22-bbc2-f95910cfe168')\"\n",
              "            title=\"Suggest charts\"\n",
              "            style=\"display:none;\">\n",
              "\n",
              "<svg xmlns=\"http://www.w3.org/2000/svg\" height=\"24px\"viewBox=\"0 0 24 24\"\n",
              "     width=\"24px\">\n",
              "    <g>\n",
              "        <path d=\"M19 3H5c-1.1 0-2 .9-2 2v14c0 1.1.9 2 2 2h14c1.1 0 2-.9 2-2V5c0-1.1-.9-2-2-2zM9 17H7v-7h2v7zm4 0h-2V7h2v10zm4 0h-2v-4h2v4z\"/>\n",
              "    </g>\n",
              "</svg>\n",
              "  </button>\n",
              "\n",
              "<style>\n",
              "  .colab-df-quickchart {\n",
              "      --bg-color: #E8F0FE;\n",
              "      --fill-color: #1967D2;\n",
              "      --hover-bg-color: #E2EBFA;\n",
              "      --hover-fill-color: #174EA6;\n",
              "      --disabled-fill-color: #AAA;\n",
              "      --disabled-bg-color: #DDD;\n",
              "  }\n",
              "\n",
              "  [theme=dark] .colab-df-quickchart {\n",
              "      --bg-color: #3B4455;\n",
              "      --fill-color: #D2E3FC;\n",
              "      --hover-bg-color: #434B5C;\n",
              "      --hover-fill-color: #FFFFFF;\n",
              "      --disabled-bg-color: #3B4455;\n",
              "      --disabled-fill-color: #666;\n",
              "  }\n",
              "\n",
              "  .colab-df-quickchart {\n",
              "    background-color: var(--bg-color);\n",
              "    border: none;\n",
              "    border-radius: 50%;\n",
              "    cursor: pointer;\n",
              "    display: none;\n",
              "    fill: var(--fill-color);\n",
              "    height: 32px;\n",
              "    padding: 0;\n",
              "    width: 32px;\n",
              "  }\n",
              "\n",
              "  .colab-df-quickchart:hover {\n",
              "    background-color: var(--hover-bg-color);\n",
              "    box-shadow: 0 1px 2px rgba(60, 64, 67, 0.3), 0 1px 3px 1px rgba(60, 64, 67, 0.15);\n",
              "    fill: var(--button-hover-fill-color);\n",
              "  }\n",
              "\n",
              "  .colab-df-quickchart-complete:disabled,\n",
              "  .colab-df-quickchart-complete:disabled:hover {\n",
              "    background-color: var(--disabled-bg-color);\n",
              "    fill: var(--disabled-fill-color);\n",
              "    box-shadow: none;\n",
              "  }\n",
              "\n",
              "  .colab-df-spinner {\n",
              "    border: 2px solid var(--fill-color);\n",
              "    border-color: transparent;\n",
              "    border-bottom-color: var(--fill-color);\n",
              "    animation:\n",
              "      spin 1s steps(1) infinite;\n",
              "  }\n",
              "\n",
              "  @keyframes spin {\n",
              "    0% {\n",
              "      border-color: transparent;\n",
              "      border-bottom-color: var(--fill-color);\n",
              "      border-left-color: var(--fill-color);\n",
              "    }\n",
              "    20% {\n",
              "      border-color: transparent;\n",
              "      border-left-color: var(--fill-color);\n",
              "      border-top-color: var(--fill-color);\n",
              "    }\n",
              "    30% {\n",
              "      border-color: transparent;\n",
              "      border-left-color: var(--fill-color);\n",
              "      border-top-color: var(--fill-color);\n",
              "      border-right-color: var(--fill-color);\n",
              "    }\n",
              "    40% {\n",
              "      border-color: transparent;\n",
              "      border-right-color: var(--fill-color);\n",
              "      border-top-color: var(--fill-color);\n",
              "    }\n",
              "    60% {\n",
              "      border-color: transparent;\n",
              "      border-right-color: var(--fill-color);\n",
              "    }\n",
              "    80% {\n",
              "      border-color: transparent;\n",
              "      border-right-color: var(--fill-color);\n",
              "      border-bottom-color: var(--fill-color);\n",
              "    }\n",
              "    90% {\n",
              "      border-color: transparent;\n",
              "      border-bottom-color: var(--fill-color);\n",
              "    }\n",
              "  }\n",
              "</style>\n",
              "\n",
              "  <script>\n",
              "    async function quickchart(key) {\n",
              "      const quickchartButtonEl =\n",
              "        document.querySelector('#' + key + ' button');\n",
              "      quickchartButtonEl.disabled = true;  // To prevent multiple clicks.\n",
              "      quickchartButtonEl.classList.add('colab-df-spinner');\n",
              "      try {\n",
              "        const charts = await google.colab.kernel.invokeFunction(\n",
              "            'suggestCharts', [key], {});\n",
              "      } catch (error) {\n",
              "        console.error('Error during call to suggestCharts:', error);\n",
              "      }\n",
              "      quickchartButtonEl.classList.remove('colab-df-spinner');\n",
              "      quickchartButtonEl.classList.add('colab-df-quickchart-complete');\n",
              "    }\n",
              "    (() => {\n",
              "      let quickchartButtonEl =\n",
              "        document.querySelector('#df-6a2de935-0c04-4c22-bbc2-f95910cfe168 button');\n",
              "      quickchartButtonEl.style.display =\n",
              "        google.colab.kernel.accessAllowed ? 'block' : 'none';\n",
              "    })();\n",
              "  </script>\n",
              "</div>\n",
              "\n",
              "    </div>\n",
              "  </div>\n"
            ],
            "application/vnd.google.colaboratory.intrinsic+json": {
              "type": "dataframe",
              "summary": "{\n  \"name\": \"pop_ages\",\n  \"rows\": 8,\n  \"fields\": [\n    {\n      \"column\": \"Age\",\n      \"properties\": {\n        \"dtype\": \"number\",\n        \"std\": 7064.564050678732,\n        \"min\": 3.6712769043854467,\n        \"max\": 20000.0,\n        \"num_unique_values\": 8,\n        \"samples\": [\n          21.00857750766395,\n          21.163276031124315,\n          20000.0\n        ],\n        \"semantic_type\": \"\",\n        \"description\": \"\"\n      }\n    }\n  ]\n}"
            }
          },
          "metadata": {},
          "execution_count": 12
        },
        {
          "output_type": "display_data",
          "data": {
            "text/plain": [
              "<Figure size 900x900 with 1 Axes>"
            ],
            "image/png": "[encoded data removed]"
          },
          "metadata": {}
        }
      ],
      "source": [
        "# Run this cell without changes\n",
        "np.random.seed(20)\n",
        "population_ages1 = np.random.normal(20, 4, 10000)\n",
        "population_ages2 = np.random.normal(22, 3, 10000)\n",
        "population_ages = np.concatenate((population_ages1, population_ages2))\n",
        "\n",
        "pop_ages = pd.DataFrame(population_ages, columns=[\"Age\"])\n",
        "pop_ages.hist(bins=100, figsize=(9,9))\n",
        "pop_ages.describe()"
      ]
    },
    {
      "cell_type": "markdown",
      "metadata": {
        "id": "7KsuXHTbdAYo"
      },
      "source": [
        "**Important note:** If we actually had access to the full population data represented above, we would not need to calculate a confidence interval around the mean using sample data. We are taking a sample and calculating a confidence interval for demonstration purposes\n",
        "\n",
        "### Creating a Sample\n",
        "\n",
        "Let's take a new, smaller sample (of size smaller than 30) and calculate how much the sample mean differs from the population mean."
      ]
    },
    {
      "cell_type": "code",
      "execution_count": 14,
      "metadata": {
        "colab": {
          "base_uri": "https://localhost:8080/"
        },
        "id": "pWzOA0C0dAYo",
        "outputId": "5884cbe6-3cc7-483d-86b5-77a442616cb5"
      },
      "outputs": [
        {
          "output_type": "stream",
          "name": "stdout",
          "text": [
            "Sample Mean: 19.870788629471857\n",
            "Mean Difference: 1.1377888781920937\n"
          ]
        }
      ],
      "source": [
        "# Replace None with appropriate code\n",
        "\n",
        "np.random.seed(23)\n",
        "\n",
        "sample_size = 25\n",
        "# Take a random sample of size 25 from above population\n",
        "sample = np.random.choice(population_ages, sample_size)\n",
        "# Calculate sample mean\n",
        "sample_mean = np.mean(sample)\n",
        "# Calculate population mean\n",
        "population_mean = np.mean(population_ages)\n",
        "\n",
        "# Print sample mean and difference of sample and population mean\n",
        "print (\"Sample Mean:\", sample_mean)\n",
        "print (\"Mean Difference:\", population_mean - sample_mean)\n",
        "\n",
        "# Sample Mean: 19.870788629471857\n",
        "# Mean Difference: 1.1377888781920937"
      ]
    },
    {
      "cell_type": "markdown",
      "metadata": {
        "id": "QOT7PgcidAYp"
      },
      "source": [
        "We can see that the sample mean differs from the population mean by 1.13 years. Recall that the purpose of calculating a confidence interval is attempting to capture the true population parameter (population mean) without having access to the full population data.\n",
        "\n",
        "## Calculating the Confidence Interval \"By Hand\"\n",
        "\n",
        "### Finding the Critical Value\n",
        "\n",
        "For the sake of example, let's say that we are calculating the confidence interval solely based on information in the sample. In other words, unlike when we calculated confidence intervals using the **z-distribution**, we do not have the population standard deviation.\n",
        "\n",
        "We can calculate a confidence interval without the population standard deviation using the **t-distribution**, represented by the `stats.t.ppf(q, df)` function. This function takes in a value for the confidence level required (`q`) with \"degrees of freedom\" (`df`).\n",
        "\n",
        "Hints:\n",
        "- In this case, we want 95% confidence level for a two-tail test. This means the confidence level (`q`) for this function needs to be $(1-0.95)/2$, i.e. $0.975$\n",
        "- In this case, the number of degrees of freedom (`df`) is equal to the sample size minus 1, or `df = sample_size - 1`.\n",
        "\n",
        "Calculate the t-critical value for a 95% confidence level based on the sample taken above."
      ]
    },
    {
      "cell_type": "code",
      "execution_count": 15,
      "metadata": {
        "colab": {
          "base_uri": "https://localhost:8080/"
        },
        "id": "7Q2bEQfHdAYp",
        "outputId": "fafe7a78-fa8f-457b-81db-a7ade5357f82"
      },
      "outputs": [
        {
          "output_type": "stream",
          "name": "stdout",
          "text": [
            "t-critical value:\n",
            "2.0638985616280205\n"
          ]
        }
      ],
      "source": [
        "# Replace None with appropriate code\n",
        "\n",
        "\n",
        "\n",
        "\n",
        "# Sample size\n",
        "sample_size = 25\n",
        "\n",
        "# Degrees of freedom\n",
        "df = sample_size - 1\n",
        "\n",
        "# Confidence level for a 95% confidence interval (two-tailed test)\n",
        "q = 0.975\n",
        "# Get the t-critical value by using 95% confidence level and degree of freedom\n",
        "t_critical = stats.t.ppf(q,df)\n",
        "\n",
        "# Check the t-critical value\n",
        "print(\"t-critical value:\")\n",
        "print(t_critical)\n",
        "\n",
        "# t-critical value:\n",
        "# 2.0638985616280205"
      ]
    },
    {
      "cell_type": "markdown",
      "metadata": {
        "id": "AtFrXW1udAYp"
      },
      "source": [
        "### Finding the Standard Error of the Mean\n",
        "\n",
        "The standard error of the mean is $\\dfrac{S}{\\sqrt{n}}$, where $S$ is the sample standard deviation and $n$ is the sample size.\n",
        "\n",
        "Calculate the standard error of the mean for `sample` below."
      ]
    },
    {
      "cell_type": "code",
      "execution_count": 17,
      "metadata": {
        "colab": {
          "base_uri": "https://localhost:8080/"
        },
        "id": "QEg4NOXadAYq",
        "outputId": "0b8732d2-c540-420e-b3ce-b278f0ca37d6"
      },
      "outputs": [
        {
          "output_type": "stream",
          "name": "stdout",
          "text": [
            "Sample Standard Error of the Mean:\n",
            "0.7071067811865476\n"
          ]
        }
      ],
      "source": [
        "import statistics\n",
        "import math\n",
        "\n",
        "sample_data = [1, 2, 3, 4, 5]  # Replace with your actual sample data\n",
        "\n",
        "# Get the sample standard deviation\n",
        "sample_stdev = statistics.stdev(sample_data)\n",
        "\n",
        "# Calculate the sample size\n",
        "n = len(sample_data)\n",
        "\n",
        "# Calculate the standard error using the formula SE = S / sqrt(n)\n",
        "se = sample_stdev / math.sqrt(n)\n",
        "\n",
        "# Print the standard error of the mean\n",
        "print(\"Sample Standard Error of the Mean:\")\n",
        "print(se)\n"
      ]
    },
    {
      "cell_type": "markdown",
      "metadata": {
        "id": "3y3Eh8cfdAYq"
      },
      "source": [
        "### Finding the Margin of Error and Confidence Interval\n",
        "\n",
        "The margin of error is $t_{\\alpha/2,n-1}\\left(\\dfrac{S}{\\sqrt{n}}\\right)$, i.e. the t-critical value times the standard error.\n",
        "\n",
        "Then the confidence interval is $\\bar{x}\\pm t_{\\alpha/2,n-1}\\left(\\dfrac{S}{\\sqrt{n}}\\right)$, i.e. a tuple containing:\n",
        "- The sample mean minus the margin of error\n",
        "- The sample mean plus the margin of error\n",
        "\n",
        "Calculate both in the cell below."
      ]
    },
    {
      "cell_type": "code",
      "execution_count": 18,
      "metadata": {
        "colab": {
          "base_uri": "https://localhost:8080/"
        },
        "id": "xmYz60BVdAYq",
        "outputId": "116b5ae8-22a5-4035-a183-1c30fc86472a"
      },
      "outputs": [
        {
          "output_type": "stream",
          "name": "stdout",
          "text": [
            "Confidence Interval:\n",
            "(19.641602741893436, 21.958397258106565)\n"
          ]
        }
      ],
      "source": [
        "import statistics\n",
        "import math\n",
        "from scipy.stats import t\n",
        "\n",
        "# Sample data (replace with your actual sample data)\n",
        "sample_data = [20, 21, 23, 19, 22, 18, 21, 20, 23, 21]\n",
        "\n",
        "# Calculate sample mean\n",
        "sample_mean = statistics.mean(sample_data)\n",
        "\n",
        "# Calculate sample standard deviation\n",
        "sample_stdev = statistics.stdev(sample_data)\n",
        "\n",
        "# Calculate sample size\n",
        "n = len(sample_data)\n",
        "\n",
        "# Degrees of freedom\n",
        "df = n - 1\n",
        "\n",
        "# Calculate standard error of the mean (SE)\n",
        "se = sample_stdev / math.sqrt(n)\n",
        "\n",
        "# Set confidence level (e.g., 95% confidence level)\n",
        "confidence_level = 0.95\n",
        "\n",
        "# Calculate the critical t-value\n",
        "alpha = 1 - confidence_level\n",
        "t_critical = t.ppf(1 - alpha/2, df)\n",
        "\n",
        "# Calculate margin of error\n",
        "margin_of_error = t_critical * se\n",
        "\n",
        "# Calculate confidence interval\n",
        "confidence_interval = (sample_mean - margin_of_error, sample_mean + margin_of_error)\n",
        "\n",
        "# Print the results\n",
        "print(\"Confidence Interval:\")\n",
        "print(confidence_interval)\n"
      ]
    },
    {
      "cell_type": "markdown",
      "metadata": {
        "id": "EP27rRJtdAYq"
      },
      "source": [
        "### Verifying Our Results with `stats.t.interval`\n",
        "\n",
        "The previous exercise walked through each of the parts of calculating the confidence interval in order to reinforce your understanding of the formula. However, as you may recall from the previous lesson, there is a function within SciPy that will perform a lot of the same logic with a single function call!\n",
        "\n",
        "Let's verify our calculations by using the Python function `stats.t.interval()`:"
      ]
    },
    {
      "cell_type": "code",
      "execution_count": 19,
      "metadata": {
        "colab": {
          "base_uri": "https://localhost:8080/"
        },
        "id": "xjbOonizdAYr",
        "outputId": "883a6c8f-2184-43fd-f80b-a84411f14377"
      },
      "outputs": [
        {
          "output_type": "stream",
          "name": "stdout",
          "text": [
            "True Population Mean:\n",
            "21.00857750766395\n",
            "95% Confidence Interval of Mean Based on Sample:\n",
            "(19.743126289287922, 21.85687371071208)\n"
          ]
        }
      ],
      "source": [
        "# Run this cell without changes\n",
        "\n",
        "ci = stats.t.interval(\n",
        "    confidence=0.95,         # Confidence level\n",
        "    df=sample_size - 1, # Degrees of freedom\n",
        "    loc=sample_mean,    # Sample mean\n",
        "    scale=se            # Standard error\n",
        ")\n",
        "\n",
        "print(\"True Population Mean:\")\n",
        "print(population_mean)\n",
        "print(\"95% Confidence Interval of Mean Based on Sample:\")\n",
        "print(ci)\n",
        "\n",
        "# True Population Mean:\n",
        "# 21.00857750766395\n",
        "# 95% Confidence Interval of Mean Based on Sample:\n",
        "# (18.431843086289952, 21.309734172653762)"
      ]
    },
    {
      "cell_type": "markdown",
      "metadata": {
        "id": "QDpGTmKOdAYr"
      },
      "source": [
        "Going forward, if you know that the confidence interval is the desired end result, you can just use the above function instead of calculating the critical t and margin of error \"by hand\".\n",
        "\n",
        "### Interpreting the Confidence Interval\n",
        "\n",
        "We can see that the calculated confidence interval (`ci`) includes the true population mean (`population_mean`) calculated above. Since we generated a 95% confidence interval, we would expect that, if we repeatedly drew samples and calculated confidence intervals in the same way, the true population mean would be present within 95% of the confidence intervals we would calculate.\n",
        "\n",
        "We will illustrate (and visualize!) this point below.\n",
        "\n",
        "## Confidence Intervals of Repeated Samples\n",
        "\n",
        "Let's run the code multiple times to see how often our estimated confidence interval covers the population mean value:\n",
        "\n",
        "**Refactor the code above into a function called `conf_interval` that takes in sample data and returns a confidence interval for the population mean.**\n",
        "\n",
        "The starter code is below, and we have used slightly different variable names to represent the same concepts."
      ]
    },
    {
      "cell_type": "code",
      "execution_count": 20,
      "metadata": {
        "colab": {
          "base_uri": "https://localhost:8080/"
        },
        "id": "gmxSRQzidAYr",
        "outputId": "98296111-c49b-499c-904b-0715dc9737a3"
      },
      "outputs": [
        {
          "output_type": "execute_result",
          "data": {
            "text/plain": [
              "0.95"
            ]
          },
          "metadata": {},
          "execution_count": 20
        }
      ],
      "source": [
        "# Replace None with appropriate code\n",
        "\n",
        "def conf_interval(sample):\n",
        "    '''\n",
        "    Input:  Sample data\n",
        "    Output: Confidence interval for the mean of the\n",
        "            population that the sample was drawn from\n",
        "    '''\n",
        "\n",
        "    # Sample size\n",
        "    n = len(sample)\n",
        "    # Sample mean\n",
        "    x_hat = sample.mean()\n",
        "\n",
        "    # Standard error of the mean\n",
        "    standard_error = sample_stdev / math.sqrt(n)\n",
        "\n",
        "    # Compute confidence interval with stats.t.interval\n",
        "    conf = 0.95\n",
        "\n",
        "    return conf\n",
        "\n",
        "# Confirm that this produces the same interval as the previous code\n",
        "conf_interval(sample)\n",
        "\n",
        "# (18.431843086289952, 21.309734172653762)"
      ]
    },
    {
      "cell_type": "markdown",
      "metadata": {
        "id": "__9oYZB9dAYr"
      },
      "source": [
        "Now we can test out what happens if we repeatedly take samples from the same population.\n",
        "\n",
        "**Call the function 20 times, taking different samples at each iteration and calculating the sample mean and confidence intervals**\n",
        "\n",
        "Hints:\n",
        "- `sample_means` should be a list of numbers\n",
        "- `intervals` should be a list of tuples (each tuple containing two numbers)"
      ]
    },
    {
      "cell_type": "code",
      "execution_count": 23,
      "metadata": {
        "colab": {
          "base_uri": "https://localhost:8080/"
        },
        "id": "NnrSXSp9dAYr",
        "outputId": "3df8d19e-9ff4-4433-83fc-9ed9ddb65fa7"
      },
      "outputs": [
        {
          "output_type": "stream",
          "name": "stdout",
          "text": [
            "Sample Means:\n",
            "[56, 51, 57, 50, 55, 52, 54, 56, 47, 51, 57, 52, 62, 56, 54, 55, 55, 54, 56, 54]\n",
            "Confidence Intervals:\n",
            "[(47.25335471066099, 64.746645289339), (43.37753333890567, 58.62246666109433), (47.596229469991904, 66.4037705300081), (41.869182619677645, 58.130817380322355), (46.06067420687285, 63.93932579312715), (43.52041555481574, 60.47958444518426), (46.32185351441947, 61.67814648558053), (45.63931144798796, 66.36068855201204), (38.05114908345345, 55.94885091654655), (42.07975496671458, 59.92024503328542), (49.08151217377965, 64.91848782622036), (44.98274489046473, 59.01725510953527), (53.953442068505865, 70.04655793149414), (47.175777623791596, 64.8242223762084), (45.869182619677645, 62.130817380322355), (46.858711504739574, 63.141288495260426), (45.76073961051471, 64.23926038948528), (45.06067420687285, 62.93932579312715), (47.07020949043256, 64.92979050956744), (45.420534791020664, 62.579465208979336)]\n"
          ]
        }
      ],
      "source": [
        "import numpy as np\n",
        "import statistics\n",
        "from scipy import stats\n",
        "import math\n",
        "\n",
        "def conf_interval(sample):\n",
        "    '''\n",
        "    Input:  Sample data\n",
        "    Output: Confidence interval for the mean of the\n",
        "            population that the sample was drawn from\n",
        "    '''\n",
        "    # Sample size\n",
        "    n = len(sample)\n",
        "\n",
        "    # Sample mean\n",
        "    x_hat = statistics.mean(sample)\n",
        "\n",
        "    # Sample standard deviation\n",
        "    sample_stdev = statistics.stdev(sample)\n",
        "\n",
        "    # Standard error of the mean\n",
        "    standard_error = sample_stdev / math.sqrt(n)\n",
        "\n",
        "    # Confidence level\n",
        "    confidence_level = 0.95\n",
        "\n",
        "    # Degrees of freedom\n",
        "    df = n - 1\n",
        "\n",
        "    # Compute confidence interval with stats.t.interval\n",
        "    conf = stats.t.interval(confidence_level, df, loc=x_hat, scale=standard_error)\n",
        "\n",
        "    return conf\n",
        "\n",
        "# Set random seed for reproducibility\n",
        "np.random.seed(12)\n",
        "\n",
        "# Example population data (e.g., ages in a population)\n",
        "population_ages = np.random.randint(18, 90, 1000)\n",
        "\n",
        "# Select the sample size\n",
        "sample_size = 25\n",
        "\n",
        "# Initialize lists to store interval and mean values\n",
        "sample_means = []\n",
        "intervals = []\n",
        "\n",
        "# Run a for loop for sampling 20 times and calculate + store\n",
        "# confidence interval and sample mean values in lists initialized above\n",
        "for _ in range(20):\n",
        "    # Take a random sample of chosen size from population_ages\n",
        "    sample = np.random.choice(population_ages, sample_size, replace=False)\n",
        "\n",
        "    # Calculate sample mean and confidence_interval\n",
        "    sample_mean = statistics.mean(sample)\n",
        "    confidence_interval = conf_interval(sample)\n",
        "\n",
        "    # Append sample means and conf intervals for each iteration\n",
        "    sample_means.append(sample_mean)\n",
        "    intervals.append(confidence_interval)\n",
        "\n",
        "# Print sample means and confidence intervals\n",
        "print(\"Sample Means:\")\n",
        "print(sample_means)\n",
        "print(\"Confidence Intervals:\")\n",
        "print(intervals)\n"
      ]
    },
    {
      "cell_type": "markdown",
      "metadata": {
        "id": "xxuJlACXdAYs"
      },
      "source": [
        "**Use the code below to plot the confidence intervals along with the sample means and population mean**"
      ]
    },
    {
      "cell_type": "code",
      "execution_count": 24,
      "metadata": {
        "colab": {
          "base_uri": "https://localhost:8080/",
          "height": 619
        },
        "id": "11ZZGdn5dAYs",
        "outputId": "551f8abf-e0a5-4d8d-bd6e-455b4b3173d3"
      },
      "outputs": [
        {
          "output_type": "display_data",
          "data": {
            "text/plain": [
              "<Figure size 1500x700 with 1 Axes>"
            ],
            "image/png": "[encoded data removed]"
          },
          "metadata": {}
        }
      ],
      "source": [
        "# Run this cell without changes\n",
        "\n",
        "# Set up figure\n",
        "fig, ax = plt.subplots(figsize=(15,7))\n",
        "\n",
        "# Draw the means and confidence intervals for each sample\n",
        "ax.errorbar(\n",
        "    x=np.arange(1, 21, 1),\n",
        "    y=sample_means,\n",
        "    yerr=[(upper-lower)/2 for lower, upper in intervals],\n",
        "    fmt='o',\n",
        "    color=\"gray\",\n",
        "    markerfacecolor=\"blue\"\n",
        ")\n",
        "\n",
        "# Draw the population mean as a horizontal line\n",
        "ax.hlines(\n",
        "    xmin=0,\n",
        "    xmax=21,\n",
        "    y=population_ages.mean(),\n",
        "    linewidth=2.0,\n",
        "    color=\"red\"\n",
        ")\n",
        "\n",
        "# Label plot\n",
        "ax.set_xlabel(\"Samples\")\n",
        "ax.set_ylabel(\"Means\")\n",
        "\n",
        "# Customize legend appearance\n",
        "legend_elements = [\n",
        "    # Sample mean (blue circle with gray edge)\n",
        "    Line2D(\n",
        "        [0], # \"Dummy\" line being graphed\n",
        "        [0], # for use in the legend\n",
        "        marker=\"o\",\n",
        "        color=\"w\",\n",
        "        markerfacecolor=\"blue\",\n",
        "        markeredgecolor=\"gray\"\n",
        "    ),\n",
        "    # Confidence interval (gray vertical line)\n",
        "    Line2D(\n",
        "        [0],\n",
        "        [0],\n",
        "        marker=\"|\",\n",
        "        markersize=15,\n",
        "        color=\"w\",\n",
        "        markeredgewidth=1.5,\n",
        "        markeredgecolor=\"gray\"\n",
        "    ),\n",
        "    # Population mean (red horizontal line)\n",
        "    Line2D([0],[0], color=\"red\")\n",
        "]\n",
        "\n",
        "ax.legend(\n",
        "    handles=legend_elements,\n",
        "    labels=[\"Sample Mean\", \"Sample Confidence Interval for Mean\", \"True Population Mean\"],\n",
        "    loc=\"lower left\",\n",
        "    fontsize=\"large\"\n",
        ");"
      ]
    },
    {
      "cell_type": "markdown",
      "metadata": {
        "id": "wanQ3d2FdAYs"
      },
      "source": [
        "### Interpreting Confidence Intervals of Repeated Samples\n",
        "\n",
        "Just like the last lab, all but one of the 95% confidence intervals overlap the red line marking the true mean. This is to be expected: since we're generating a 95% confidence interval, we would expect after repeatedly sampling and calculating confidence intervals that 95% of the confidence intervals calculated would contain the true population mean, while 5% would not.\n",
        "\n",
        "It won't always turn out at exactly 1 out of 20 like this (just like flipping a coin twice won't always give you 1 heads and 1 tails), but this particular example turned out nicely."
      ]
    },
    {
      "cell_type": "markdown",
      "metadata": {
        "id": "-aLB6-aOdAYs"
      },
      "source": [
        "## Summary\n",
        "\n",
        "In this lab, we learned how to use confidence intervals when the population standard deviation is not known, and the sample size is small (<30). Specifically, we constructed confidence intervals \"by hand\" using the t-critical value and margin of error, then saw how to use `stats.t.interval` instead. We also demonstrated an example of multiple samples being taken and confidence intervals being calculated, and how this relates to the 95% confidence level."
      ]
    }
  ],
  "metadata": {
    "kernelspec": {
      "display_name": "Python (learn-env)",
      "language": "python",
      "name": "learn-env"
    },
    "language_info": {
      "codemirror_mode": {
        "name": "ipython",
        "version": 3
      },
      "file_extension": ".py",
      "mimetype": "text/x-python",
      "name": "python",
      "nbconvert_exporter": "python",
      "pygments_lexer": "ipython3",
      "version": "3.8.5"
    },
    "toc": {
      "base_numbering": 1,
      "nav_menu": {},
      "number_sections": true,
      "sideBar": true,
      "skip_h1_title": false,
      "title_cell": "Table of Contents",
      "title_sidebar": "Contents",
      "toc_cell": false,
      "toc_position": {},
      "toc_section_display": true,
      "toc_window_display": false
    },
    "colab": {
      "provenance": []
    }
  },
  "nbformat": 4,
  "nbformat_minor": 0
}